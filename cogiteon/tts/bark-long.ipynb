{
 "cells": [
  {
   "cell_type": "code",
   "execution_count": 1,
   "metadata": {},
   "outputs": [
    {
     "name": "stderr",
     "output_type": "stream",
     "text": [
      "c:\\Users\\jdworzycki\\AppData\\Local\\Programs\\Python\\Python312\\Lib\\site-packages\\tqdm\\auto.py:21: TqdmWarning: IProgress not found. Please update jupyter and ipywidgets. See https://ipywidgets.readthedocs.io/en/stable/user_install.html\n",
      "  from .autonotebook import tqdm as notebook_tqdm\n",
      "[nltk_data] Downloading collection 'popular'\n",
      "[nltk_data]    | \n",
      "[nltk_data]    | Downloading package cmudict to\n",
      "[nltk_data]    |     C:\\Users\\jdworzycki\\AppData\\Roaming\\nltk_data...\n",
      "[nltk_data]    |   Unzipping corpora\\cmudict.zip.\n",
      "[nltk_data]    | Downloading package gazetteers to\n",
      "[nltk_data]    |     C:\\Users\\jdworzycki\\AppData\\Roaming\\nltk_data...\n",
      "[nltk_data]    |   Unzipping corpora\\gazetteers.zip.\n",
      "[nltk_data]    | Downloading package genesis to\n",
      "[nltk_data]    |     C:\\Users\\jdworzycki\\AppData\\Roaming\\nltk_data...\n",
      "[nltk_data]    |   Unzipping corpora\\genesis.zip.\n",
      "[nltk_data]    | Downloading package gutenberg to\n",
      "[nltk_data]    |     C:\\Users\\jdworzycki\\AppData\\Roaming\\nltk_data...\n",
      "[nltk_data]    |   Unzipping corpora\\gutenberg.zip.\n",
      "[nltk_data]    | Downloading package inaugural to\n",
      "[nltk_data]    |     C:\\Users\\jdworzycki\\AppData\\Roaming\\nltk_data...\n",
      "[nltk_data]    |   Unzipping corpora\\inaugural.zip.\n",
      "[nltk_data]    | Downloading package movie_reviews to\n",
      "[nltk_data]    |     C:\\Users\\jdworzycki\\AppData\\Roaming\\nltk_data...\n",
      "[nltk_data]    |   Unzipping corpora\\movie_reviews.zip.\n",
      "[nltk_data]    | Downloading package names to\n",
      "[nltk_data]    |     C:\\Users\\jdworzycki\\AppData\\Roaming\\nltk_data...\n",
      "[nltk_data]    |   Unzipping corpora\\names.zip.\n",
      "[nltk_data]    | Downloading package shakespeare to\n",
      "[nltk_data]    |     C:\\Users\\jdworzycki\\AppData\\Roaming\\nltk_data...\n",
      "[nltk_data]    |   Unzipping corpora\\shakespeare.zip.\n",
      "[nltk_data]    | Downloading package stopwords to\n",
      "[nltk_data]    |     C:\\Users\\jdworzycki\\AppData\\Roaming\\nltk_data...\n",
      "[nltk_data]    |   Unzipping corpora\\stopwords.zip.\n",
      "[nltk_data]    | Downloading package treebank to\n",
      "[nltk_data]    |     C:\\Users\\jdworzycki\\AppData\\Roaming\\nltk_data...\n",
      "[nltk_data]    |   Unzipping corpora\\treebank.zip.\n",
      "[nltk_data]    | Downloading package twitter_samples to\n",
      "[nltk_data]    |     C:\\Users\\jdworzycki\\AppData\\Roaming\\nltk_data...\n",
      "[nltk_data]    |   Unzipping corpora\\twitter_samples.zip.\n",
      "[nltk_data]    | Downloading package omw to\n",
      "[nltk_data]    |     C:\\Users\\jdworzycki\\AppData\\Roaming\\nltk_data...\n",
      "[nltk_data]    | Downloading package omw-1.4 to\n",
      "[nltk_data]    |     C:\\Users\\jdworzycki\\AppData\\Roaming\\nltk_data...\n",
      "[nltk_data]    | Downloading package wordnet to\n",
      "[nltk_data]    |     C:\\Users\\jdworzycki\\AppData\\Roaming\\nltk_data...\n",
      "[nltk_data]    | Downloading package wordnet2021 to\n",
      "[nltk_data]    |     C:\\Users\\jdworzycki\\AppData\\Roaming\\nltk_data...\n",
      "[nltk_data]    | Downloading package wordnet31 to\n",
      "[nltk_data]    |     C:\\Users\\jdworzycki\\AppData\\Roaming\\nltk_data...\n",
      "[nltk_data]    | Downloading package wordnet_ic to\n",
      "[nltk_data]    |     C:\\Users\\jdworzycki\\AppData\\Roaming\\nltk_data...\n",
      "[nltk_data]    |   Unzipping corpora\\wordnet_ic.zip.\n",
      "[nltk_data]    | Downloading package words to\n",
      "[nltk_data]    |     C:\\Users\\jdworzycki\\AppData\\Roaming\\nltk_data...\n",
      "[nltk_data]    |   Unzipping corpora\\words.zip.\n",
      "[nltk_data]    | Downloading package maxent_ne_chunker to\n",
      "[nltk_data]    |     C:\\Users\\jdworzycki\\AppData\\Roaming\\nltk_data...\n",
      "[nltk_data]    |   Unzipping chunkers\\maxent_ne_chunker.zip.\n",
      "[nltk_data]    | Downloading package punkt to\n",
      "[nltk_data]    |     C:\\Users\\jdworzycki\\AppData\\Roaming\\nltk_data...\n",
      "[nltk_data]    |   Package punkt is already up-to-date!\n",
      "[nltk_data]    | Downloading package snowball_data to\n",
      "[nltk_data]    |     C:\\Users\\jdworzycki\\AppData\\Roaming\\nltk_data...\n",
      "[nltk_data]    | Downloading package averaged_perceptron_tagger to\n",
      "[nltk_data]    |     C:\\Users\\jdworzycki\\AppData\\Roaming\\nltk_data...\n",
      "[nltk_data]    |   Unzipping taggers\\averaged_perceptron_tagger.zip.\n",
      "[nltk_data]    | \n",
      "[nltk_data]  Done downloading collection popular\n"
     ]
    },
    {
     "data": {
      "text/plain": [
       "True"
      ]
     },
     "execution_count": 1,
     "metadata": {},
     "output_type": "execute_result"
    }
   ],
   "source": [
    "import os\n",
    "import torch\n",
    "from transformers import BarkModel\n",
    "from transformers import AutoProcessor\n",
    "from IPython.display import Audio\n",
    "import nltk\n",
    "import numpy as np\n",
    "from bark import generate_audio, SAMPLE_RATE\n",
    "from scipy.io.wavfile import write as write_wav\n",
    "\n",
    "os.environ[\"CUDA_VISIBLE_DEVICES\"] = \"1\"\n",
    "nltk.download(\"popular\")\n"
   ]
  },
  {
   "cell_type": "code",
   "execution_count": 2,
   "metadata": {},
   "outputs": [
    {
     "name": "stderr",
     "output_type": "stream",
     "text": [
      "c:\\Users\\asd\\AppData\\Local\\Programs\\Python\\Python312\\Lib\\site-packages\\torch\\nn\\utils\\weight_norm.py:28: UserWarning: torch.nn.utils.weight_norm is deprecated in favor of torch.nn.utils.parametrizations.weight_norm.\n",
      "  warnings.warn(\"torch.nn.utils.weight_norm is deprecated in favor of torch.nn.utils.parametrizations.weight_norm.\")\n",
      "c:\\Users\\asd\\AppData\\Local\\Programs\\Python\\Python312\\Lib\\site-packages\\transformers\\models\\encodec\\modeling_encodec.py:120: UserWarning: To copy construct from a tensor, it is recommended to use sourceTensor.clone().detach() or sourceTensor.clone().detach().requires_grad_(True), rather than torch.tensor(sourceTensor).\n",
      "  self.register_buffer(\"padding_total\", torch.tensor(kernel_size - stride, dtype=torch.int64), persistent=False)\n"
     ]
    }
   ],
   "source": [
    "model = BarkModel.from_pretrained(\"suno/bark\", torch_dtype=torch.float16)\n",
    "\n",
    "device = \"cuda:0\" if torch.cuda.is_available() else \"cpu\"\n",
    "model = model.to(device)"
   ]
  },
  {
   "cell_type": "code",
   "execution_count": 3,
   "metadata": {},
   "outputs": [],
   "source": [
    "processor = AutoProcessor.from_pretrained(\"suno/bark\")"
   ]
  },
  {
   "cell_type": "code",
   "execution_count": 4,
   "metadata": {},
   "outputs": [],
   "source": [
    "script = \"\"\"\n",
    "Dzień dobry! Witaj w Małopolskim Centrum Nauki Cogiteon. Informujemy, że rozmowy mogą być nagrywane. Administratorem danych osobowych jest Małopolskie Centrum Nauki Cogiteon z siedzibą w Krakowie. Szczegółowe informacje o przetwarzaniu danych osobowych znajdziesz na naszej stronie internetowej.\n",
    "Jeśli chcesz dowiedzieć się więcej o naszych aktualnych wystawach, warsztatach lub wydarzeniach, zapraszamy na naszą stronę internetową www.cogiteon.pl.\n",
    "\n",
    "Cogiteon to miejsce pełne interaktywnych atrakcji, które pozwalają odkrywać, eksperymentować i doświadczyć nauki w nowatorski sposób. Nasza stała wystawa „Człowiek i jego marzenia” oferuje ponad sto interaktywnych stanowisk rozlokowanych na przestrzeni ponad 2,2 tys. m2, a nasze laboratoria zapraszają do udziału w fascynujących warsztatach, takich jak „Laboratorium Smaków” czy „Laboratorium Przyrody”.\n",
    "Dla dodatkowych informacji, prosimy odwiedzić naszą stronę www.cogiteon.pl lub skontaktować się z nami poprzez e-mail: oferta@cogiteon.pl.\n",
    "Jeśli potrzebujesz informacji na temat oferty indywidualnej wciśnij 1\n",
    "Jeśli potrzebujesz informacji na temat oferty dla firm wciśnij 2\n",
    "Jeśli potrzebujesz innych informacji wciśnij 3\n",
    "\n",
    "Dziękujemy za telefon i zapraszamy do odkrywania tajemnic nauki z Cogiteon!\n",
    "\"\"\".replace(\"\\n\", \" \").strip()"
   ]
  },
  {
   "cell_type": "code",
   "execution_count": 5,
   "metadata": {},
   "outputs": [
    {
     "name": "stdout",
     "output_type": "stream",
     "text": [
      "['Dzień dobry!', 'Witaj w Małopolskim Centrum Nauki Cogiteon.', 'Informujemy, że rozmowy mogą być nagrywane.', 'Administratorem danych osobowych jest Małopolskie Centrum Nauki Cogiteon z siedzibą w Krakowie.', 'Szczegółowe informacje o przetwarzaniu danych osobowych znajdziesz na naszej stronie internetowej.', 'Jeśli chcesz dowiedzieć się więcej o naszych aktualnych wystawach, warsztatach lub wydarzeniach, zapraszamy na naszą stronę internetową www.cogiteon.pl.', 'Cogiteon to miejsce pełne interaktywnych atrakcji, które pozwalają odkrywać, eksperymentować i doświadczyć nauki w nowatorski sposób.', 'Nasza stała wystawa „Człowiek i jego marzenia” oferuje ponad sto interaktywnych stanowisk rozlokowanych na przestrzeni ponad 2,2 tys.', 'm2, a nasze laboratoria zapraszają do udziału w fascynujących warsztatach, takich jak „Laboratorium Smaków” czy „Laboratorium Przyrody”.', 'Dla dodatkowych informacji, prosimy odwiedzić naszą stronę www.cogiteon.pl lub skontaktować się z nami poprzez e-mail: oferta@cogiteon.pl.', 'Jeśli potrzebujesz informacji na temat oferty indywidualnej wciśnij 1 Jeśli potrzebujesz informacji na temat oferty dla firm wciśnij 2 Jeśli potrzebujesz innych informacji wciśnij 3  Dziękujemy za telefon i zapraszamy do odkrywania tajemnic nauki z Cogiteon!']\n"
     ]
    }
   ],
   "source": [
    "sentences = nltk.sent_tokenize(script)\n",
    "# print(sentences)"
   ]
  },
  {
   "cell_type": "code",
   "execution_count": 31,
   "metadata": {},
   "outputs": [
    {
     "name": "stderr",
     "output_type": "stream",
     "text": [
      "100%|██████████| 65/65 [00:01<00:00, 49.11it/s] \n",
      "100%|██████████| 4/4 [00:03<00:00,  1.09it/s]\n",
      "100%|██████████| 210/210 [00:02<00:00, 72.16it/s]\n",
      "100%|██████████| 11/11 [00:08<00:00,  1.36it/s]\n",
      "100%|██████████| 180/180 [00:02<00:00, 77.01it/s]\n",
      "100%|██████████| 9/9 [00:06<00:00,  1.30it/s]\n",
      "100%|██████████| 341/341 [00:04<00:00, 77.04it/s]\n",
      "100%|██████████| 18/18 [00:13<00:00,  1.33it/s]\n",
      "100%|██████████| 322/322 [00:04<00:00, 73.60it/s]\n",
      "100%|██████████| 17/17 [00:12<00:00,  1.32it/s]\n",
      "100%|██████████| 565/565 [00:07<00:00, 75.83it/s]\n",
      "100%|██████████| 29/29 [00:22<00:00,  1.29it/s]\n",
      "100%|██████████| 533/533 [00:07<00:00, 74.31it/s]\n",
      "100%|██████████| 27/27 [00:21<00:00,  1.26it/s]\n",
      "100%|██████████| 525/525 [00:06<00:00, 75.81it/s]\n",
      "100%|██████████| 27/27 [00:21<00:00,  1.28it/s]\n",
      "100%|██████████| 562/562 [00:07<00:00, 72.93it/s]\n",
      "100%|██████████| 29/29 [00:22<00:00,  1.29it/s]\n",
      "100%|██████████| 672/672 [00:09<00:00, 73.95it/s]\n",
      "100%|██████████| 34/34 [00:26<00:00,  1.29it/s]\n",
      "100%|██████████| 743/743 [00:09<00:00, 77.23it/s]\n",
      "100%|██████████| 38/38 [00:28<00:00,  1.33it/s]\n"
     ]
    }
   ],
   "source": [
    "SPEAKER = \"v2/pl_speaker_2\"\n",
    "silence = np.zeros(int(0.1 * SAMPLE_RATE))  # quarter second of silence\n",
    "\n",
    "pieces = []\n",
    "for sentence in sentences:\n",
    "    audio_array = generate_audio(sentence, history_prompt=SPEAKER)\n",
    "    pieces += [audio_array, silence.copy()]"
   ]
  },
  {
   "cell_type": "code",
   "execution_count": 33,
   "metadata": {},
   "outputs": [],
   "source": [
    "write_wav(f\"{SPEAKER.split('/')[1]}.wav\", SAMPLE_RATE, np.concatenate(pieces))"
   ]
  }
 ],
 "metadata": {
  "kernelspec": {
   "display_name": "Python 3",
   "language": "python",
   "name": "python3"
  },
  "language_info": {
   "codemirror_mode": {
    "name": "ipython",
    "version": 3
   },
   "file_extension": ".py",
   "mimetype": "text/x-python",
   "name": "python",
   "nbconvert_exporter": "python",
   "pygments_lexer": "ipython3",
   "version": "3.12.4"
  }
 },
 "nbformat": 4,
 "nbformat_minor": 2
}
